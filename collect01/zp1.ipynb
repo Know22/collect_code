{
 "cells": [
  {
   "cell_type": "code",
   "execution_count": 3,
   "id": "86d67d8d",
   "metadata": {},
   "outputs": [],
   "source": [
    "import requests\n",
    "from bs4 import BeautifulSoup as BS\n",
    "import pandas as pd\n",
    "\n",
    "url=\"http://www.bspider.top/doubanbook/\"\n",
    "\n",
    "resp=requests.get(url)\n",
    "\n",
    "page=BS(resp.text,\"html.parser\")\n",
    "\n",
    "content=page.find(\"ul\",class_=\"cover-col-4 clearfix\").find_all(\"div\")\n",
    "\n",
    "books=[]\n",
    "for i in content:\n",
    "    names=i.find_all(\"h2\")\n",
    "    others=i.find_all(\"p\")\n",
    "    \n",
    "    book=[names[0].text.strip(),#书名\n",
    "        others[1].text.strip().split(\"/\")[0],#作者\n",
    "        others[0].text.strip()#评分\n",
    "       ]\n",
    "    books.append(book)\n",
    "#print(books)\n",
    "#with open(\"books.txt\",\"a\",encoding=\"utf-8\") as f:\n",
    "#     f.write(str(books))\n",
    "\n",
    "data=pd.DataFrame(books,columns=['书名','作者','评分'])\n",
    "data.to_excel(\"爬的书籍.xlsx\",sheet_name='sheet1',index=False)\n",
    "#print(data)\n"
   ]
  },
  {
   "cell_type": "code",
   "execution_count": null,
   "id": "564f3ff2",
   "metadata": {},
   "outputs": [],
   "source": []
  },
  {
   "cell_type": "code",
   "execution_count": null,
   "id": "f10ee83f",
   "metadata": {},
   "outputs": [],
   "source": []
  }
 ],
 "metadata": {
  "kernelspec": {
   "display_name": "Python 3",
   "language": "python",
   "name": "python3"
  },
  "language_info": {
   "codemirror_mode": {
    "name": "ipython",
    "version": 3
   },
   "file_extension": ".py",
   "mimetype": "text/x-python",
   "name": "python",
   "nbconvert_exporter": "python",
   "pygments_lexer": "ipython3",
   "version": "3.8.8"
  }
 },
 "nbformat": 4,
 "nbformat_minor": 5
}
