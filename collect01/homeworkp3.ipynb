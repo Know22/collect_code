{
 "cells": [
  {
   "cell_type": "code",
   "execution_count": 7,
   "id": "ce392bea",
   "metadata": {},
   "outputs": [],
   "source": [
    "import requests\n",
    "import csv\n",
    "from bs4 import BeautifulSoup as BS\n",
    "\n",
    "def get_html(url,time=10):\n",
    "    try:\n",
    "        head={\"User-Agent\":\"Mozilla/5.0 (Windows NT 10.0; Win64; x64) AppleWebKit/537.36 (KHTML, like Gecko) Chrome/100.0.4896.60 Safari/537.36\"}\n",
    "        \n",
    "        resp=requests.get(url,headers=head,timeout=time)#发送请求\n",
    "        \n",
    "        #resp.encoding=resp.apparent_encoding#设置返回内容的字符集编码\n",
    "        resp.encoding=\"utf-8\"\n",
    "        \n",
    "        resp.raise_for_status()#返回的状态码不等于200抛出异常\n",
    "        \n",
    "        return resp.text#返回网页的文本内容\n",
    "    \n",
    "    except Exception as error:\n",
    "        print(error)\n",
    "\n",
    "music=[]\n",
    "def parser(html):#解析数据\n",
    "    soup=BS(html,\"lxml\")\n",
    "    \n",
    "    for row in soup.select(\".pc_temp_songlist>ul>li\"):\n",
    "        \n",
    "        singer=row.select(\".pc_temp_songname\")[0].text.split(\"-\")[0]#歌手\n",
    "        \n",
    "        song_name=row.select(\".pc_temp_songname\")[0].text.split(\"-\")[1]#歌曲\n",
    "        \n",
    "        song_time=row.select(\".pc_temp_time\")[0].text#时长\n",
    "        \n",
    "        music.append([singer,song_name,song_time])\n",
    "        \n",
    "def save_csv(path,item):#将爬取的内容存入csv文件\n",
    "    \n",
    "    with open(path,\"w+\",newline='',encoding=\"utf-8-sig\") as f:\n",
    "        csv_write=csv.writer(f)\n",
    "        csv_write.writerow([\"歌手\",\"歌曲\",\"时长\"])\n",
    "        csv_write.writerows(item)\n",
    "        \n",
    "if __name__==\"__main__\":\n",
    "    \n",
    "    url=\"http://www.bspider.top/kugou/\"\n",
    "    \n",
    "    html=get_html(url,time=10)\n",
    "    parser(html)\n",
    "    save_csv(\"E:\\\\an\\\\pclass\\\\爬的内容\\\\music.csv\",music)\n",
    "    \n",
    "    \n",
    "    \n",
    "    \n",
    "    "
   ]
  },
  {
   "cell_type": "code",
   "execution_count": null,
   "id": "6a54a376",
   "metadata": {},
   "outputs": [],
   "source": []
  }
 ],
 "metadata": {
  "kernelspec": {
   "display_name": "Python 3",
   "language": "python",
   "name": "python3"
  },
  "language_info": {
   "codemirror_mode": {
    "name": "ipython",
    "version": 3
   },
   "file_extension": ".py",
   "mimetype": "text/x-python",
   "name": "python",
   "nbconvert_exporter": "python",
   "pygments_lexer": "ipython3",
   "version": "3.8.8"
  },
  "toc": {
   "base_numbering": 1,
   "nav_menu": {},
   "number_sections": true,
   "sideBar": true,
   "skip_h1_title": false,
   "title_cell": "Table of Contents",
   "title_sidebar": "Contents",
   "toc_cell": false,
   "toc_position": {},
   "toc_section_display": true,
   "toc_window_display": false
  }
 },
 "nbformat": 4,
 "nbformat_minor": 5
}
