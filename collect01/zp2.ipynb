{
 "cells": [
  {
   "cell_type": "code",
   "execution_count": 113,
   "id": "59c95134",
   "metadata": {},
   "outputs": [],
   "source": [
    "import requests\n",
    "from bs4 import BeautifulSoup as BS\n",
    "import pandas as pd\n",
    "\n",
    "url=\"http://www.gaosan.com/gaokao/299171.html\"\n",
    "\n",
    "resp=requests.get(url)\n",
    "resp.encoding='utf-8'\n",
    "#print(resp.text)\n",
    "\n",
    "page=BS(resp.text,\"html.parser\")\n",
    "\n",
    "content=page.select(\"#data299171>table>tbody>tr\")\n",
    "top=[]\n",
    "name=[]\n",
    "where=[]\n",
    "score=[]\n",
    "x_top=[]\n",
    "cc=[]\n",
    "for i in content:\n",
    "    coll=i.select(\"td\")\n",
    "    #print(coll[1].text.strip())#学校名称\n",
    "    top.append(coll[0].text.strip())\n",
    "    name.append(coll[1].text.strip())\n",
    "    where.append(coll[2].text.strip())\n",
    "    score.append(coll[3].text.strip())\n",
    "    x_top.append(coll[4].text.strip())\n",
    "    cc.append(coll[5].text.strip())\n",
    "#print(name)\n",
    "data=pd.DataFrame(top,columns=[\"排名\"])\n",
    "data.to_excel(\"学校1.xlsx\",sheet_name='sheet1',index=False)\n",
    "\n",
    "data=pd.DataFrame(name,columns=[\"名称\"])\n",
    "data.to_excel(\"学校2.xlsx\",sheet_name='sheet1',index=False)\n",
    "\n",
    "data=pd.DataFrame(where,columns=[\"地区\"])\n",
    "data.to_excel(\"学校3.xlsx\",sheet_name='sheet1',index=False)\n",
    "\n",
    "data=pd.DataFrame(score,columns=[\"得分\"])\n",
    "data.to_excel(\"学校4.xlsx\",sheet_name='sheet1',index=False)\n",
    "\n",
    "data=pd.DataFrame(x_top,columns=[\"星级\"])\n",
    "data.to_excel(\"学校5.xlsx\",sheet_name='sheet1',index=False)\n",
    "\n",
    "data=pd.DataFrame(cc,columns=[\"层次\"])\n",
    "data.to_excel(\"学校6.xlsx\",sheet_name='sheet1',index=False)\n",
    "\n",
    "\n"
   ]
  },
  {
   "cell_type": "code",
   "execution_count": null,
   "id": "ba70910e",
   "metadata": {},
   "outputs": [],
   "source": []
  },
  {
   "cell_type": "code",
   "execution_count": null,
   "id": "32c43769",
   "metadata": {},
   "outputs": [],
   "source": []
  }
 ],
 "metadata": {
  "kernelspec": {
   "display_name": "Python 3",
   "language": "python",
   "name": "python3"
  },
  "language_info": {
   "codemirror_mode": {
    "name": "ipython",
    "version": 3
   },
   "file_extension": ".py",
   "mimetype": "text/x-python",
   "name": "python",
   "nbconvert_exporter": "python",
   "pygments_lexer": "ipython3",
   "version": "3.8.8"
  }
 },
 "nbformat": 4,
 "nbformat_minor": 5
}
