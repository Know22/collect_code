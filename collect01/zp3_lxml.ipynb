{
 "cells": [
  {
   "cell_type": "code",
   "execution_count": 4,
   "id": "3f5ead32",
   "metadata": {},
   "outputs": [
    {
     "name": "stdout",
     "output_type": "stream",
     "text": [
      "500 Server Error: Internal Server Error for url: http://www.cqie.edu.cn/html/2/tzgg/List_9.shtml\n",
      "已爬取全部数据!\n",
      "\n"
     ]
    }
   ],
   "source": [
    "import requests\n",
    "import csv\n",
    "from lxml import etree\n",
    "\n",
    "def get_html(url,time=10):\n",
    "    try:\n",
    "        head={\"User-Agent\":\"Mozilla/5.0 (Windows NT 10.0; Win64; x64) AppleWebKit/537.36 (KHTML, like Gecko) Chrome/100.0.4896.60 Safari/537.36\"}\n",
    "        \n",
    "        resp=requests.get(url,headers=head,timeout=time)#发送请求\n",
    "        \n",
    "        resp.encoding=resp.apparent_encoding#设置返回内容的字符集编码\n",
    "        #resp.encoding=\"utf-8\"\n",
    "        \n",
    "        resp.raise_for_status()#返回的状态码不等于200抛出异常\n",
    "        \n",
    "        return resp.text#返回网页的文本内容\n",
    "    \n",
    "    except Exception as error:\n",
    "        print(error)\n",
    "\n",
    "info=[]\n",
    "def parser(html):\n",
    "    tree=etree.HTML(html)\n",
    "    for row in tree.xpath(\"//*[@id='colR']/div[2]/dl/dd/ul/li\"):\n",
    "        cg_title=row.xpath(\"./a/text()\")[0].strip()\n",
    "        cg_time=row.xpath(\"./span/text()\")[0].strip()\n",
    "        info.append([cg_title,cg_time])\n",
    "        \n",
    "def save_csv(path,item):#将爬取的内容存入csv文件\n",
    "     \n",
    "        with open(path,\"w+\",newline='',encoding=\"utf-8-sig\") as f:\n",
    "            csv_write=csv.writer(f)\n",
    "            csv_write.writerow([\"标题\",\"时间\"])\n",
    "            csv_write.writerows(item)        \n",
    "        \n",
    "if __name__==\"__main__\":\n",
    "    \n",
    "    for i in range(1,10):\n",
    "        if i==1:\n",
    "            url='http://www.cqie.edu.cn/html/2/tzgg/'\n",
    "        else:\n",
    "            url='http://www.cqie.edu.cn/html/2/tzgg/List_{0}.shtml'.format(str(i))\n",
    "        html=get_html(url,time=10)\n",
    "        if html==None:\n",
    "            print(\"已爬取全部数据!\\n\")\n",
    "            break\n",
    "        else:\n",
    "            parser(html)\n",
    "        \n",
    "    save_csv(\"E:\\\\an\\\\pclass\\\\爬的内容\\\\notice.csv\",info)\n",
    "    \n",
    "    "
   ]
  },
  {
   "cell_type": "code",
   "execution_count": null,
   "id": "8fef6849",
   "metadata": {},
   "outputs": [],
   "source": []
  }
 ],
 "metadata": {
  "kernelspec": {
   "display_name": "Python 3",
   "language": "python",
   "name": "python3"
  },
  "language_info": {
   "codemirror_mode": {
    "name": "ipython",
    "version": 3
   },
   "file_extension": ".py",
   "mimetype": "text/x-python",
   "name": "python",
   "nbconvert_exporter": "python",
   "pygments_lexer": "ipython3",
   "version": "3.8.8"
  },
  "toc": {
   "base_numbering": 1,
   "nav_menu": {},
   "number_sections": true,
   "sideBar": true,
   "skip_h1_title": false,
   "title_cell": "Table of Contents",
   "title_sidebar": "Contents",
   "toc_cell": false,
   "toc_position": {},
   "toc_section_display": true,
   "toc_window_display": false
  }
 },
 "nbformat": 4,
 "nbformat_minor": 5
}
