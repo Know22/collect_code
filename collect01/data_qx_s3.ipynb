{
 "cells": [
  {
   "cell_type": "code",
   "execution_count": 24,
   "id": "98956ac3",
   "metadata": {},
   "outputs": [
    {
     "data": {
      "text/plain": [
       "0       零基础 · 2147人报名\n",
       "1       零基础 · 3126人报名\n",
       "2       零基础 · 3806人报名\n",
       "3        初阶 · 7733人报名\n",
       "4       零基础 · 5459人报名\n",
       "5       零基础 · 5838人报名\n",
       "6        进阶 · 3131人报名\n",
       "7      零基础 · 10910人报名\n",
       "8        初阶 · 6677人报名\n",
       "9       零基础 · 3700人报名\n",
       "10       进阶 · 2693人报名\n",
       "11       初阶 · 4533人报名\n",
       "12      初阶 · 17903人报名\n",
       "13     零基础 · 12546人报名\n",
       "14      进阶 · 10055人报名\n",
       "15       高阶 · 4210人报名\n",
       "16      进阶 · 12159人报名\n",
       "17      零基础 · 5783人报名\n",
       "18       高阶 · 4450人报名\n",
       "19       进阶 · 5676人报名\n",
       "20       进阶 · 8880人报名\n",
       "21       进阶 · 3864人报名\n",
       "22     零基础 · 19528人报名\n",
       "23      零基础 · 5982人报名\n",
       "24      零基础 · 5341人报名\n",
       "25     零基础 · 13231人报名\n",
       "26      初阶 · 13373人报名\n",
       "27      初阶 · 12602人报名\n",
       "28     零基础 · 26153人报名\n",
       "29     零基础 · 10901人报名\n",
       "30     零基础 · 20395人报名\n",
       "31       进阶 · 3803人报名\n",
       "32     零基础 · 16542人报名\n",
       "33       初阶 · 4490人报名\n",
       "34      零基础 · 2911人报名\n",
       "35      进阶 · 27387人报名\n",
       "36      零基础 · 6251人报名\n",
       "37      零基础 · 4060人报名\n",
       "38       进阶 · 1467人报名\n",
       "39    零基础 · 102427人报名\n",
       "Name: 学习人数, dtype: object"
      ]
     },
     "execution_count": 24,
     "metadata": {},
     "output_type": "execute_result"
    }
   ],
   "source": [
    "import pandas as pd\n",
    "import re\n",
    "import csv\n",
    "\n",
    "df=pd.read_csv('E:\\\\an\\\\pclass\\\\爬的内容\\\\mooc1_caogao.csv')\n",
    "data=df['学习人数']\n",
    "\n",
    "data\n",
    "\n",
    "\n",
    "\n",
    "\n",
    "\n"
   ]
  },
  {
   "cell_type": "code",
   "execution_count": 27,
   "id": "1dabbb59",
   "metadata": {},
   "outputs": [
    {
     "name": "stdout",
     "output_type": "stream",
     "text": [
      " 2147\n",
      " 3126\n",
      " 3806\n",
      " 7733\n",
      " 5459\n",
      " 5838\n",
      " 3131\n",
      " 10910\n",
      " 6677\n",
      " 3700\n",
      " 2693\n",
      " 4533\n",
      " 17903\n",
      " 12546\n",
      " 10055\n",
      " 4210\n",
      " 12159\n",
      " 5783\n",
      " 4450\n",
      " 5676\n",
      " 8880\n",
      " 3864\n",
      " 19528\n",
      " 5982\n",
      " 5341\n",
      " 13231\n",
      " 13373\n",
      " 12602\n",
      " 26153\n",
      " 10901\n",
      " 20395\n",
      " 3803\n",
      " 16542\n",
      " 4490\n",
      " 2911\n",
      " 27387\n",
      " 6251\n",
      " 4060\n",
      " 1467\n",
      " 102427\n"
     ]
    }
   ],
   "source": [
    "\n",
    "for i in data:\n",
    "    data=i.split(\"·\")[1].split(\"人\")[0]\n",
    "\n",
    "    print(data)\n"
   ]
  },
  {
   "cell_type": "code",
   "execution_count": null,
   "id": "918cf0eb",
   "metadata": {},
   "outputs": [],
   "source": []
  }
 ],
 "metadata": {
  "kernelspec": {
   "display_name": "Python 3",
   "language": "python",
   "name": "python3"
  },
  "language_info": {
   "codemirror_mode": {
    "name": "ipython",
    "version": 3
   },
   "file_extension": ".py",
   "mimetype": "text/x-python",
   "name": "python",
   "nbconvert_exporter": "python",
   "pygments_lexer": "ipython3",
   "version": "3.8.8"
  },
  "toc": {
   "base_numbering": 1,
   "nav_menu": {},
   "number_sections": true,
   "sideBar": true,
   "skip_h1_title": false,
   "title_cell": "Table of Contents",
   "title_sidebar": "Contents",
   "toc_cell": false,
   "toc_position": {},
   "toc_section_display": true,
   "toc_window_display": false
  }
 },
 "nbformat": 4,
 "nbformat_minor": 5
}
