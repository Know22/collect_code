{
 "cells": [
  {
   "cell_type": "code",
   "execution_count": 17,
   "id": "2e5f91e0",
   "metadata": {},
   "outputs": [
    {
     "name": "stdout",
     "output_type": "stream",
     "text": [
      "over!\n"
     ]
    }
   ],
   "source": [
    "import requests\n",
    "import csv\n",
    "from lxml import etree\n",
    "\n",
    "def get_html(url,time=10):\n",
    "    try:\n",
    "        head={\"User-Agent\":\"Mozilla/5.0 (Windows NT 10.0; Win64; x64) AppleWebKit/537.36 (KHTML, like Gecko) Chrome/100.0.4896.60 Safari/537.36\"}\n",
    "        \n",
    "        resp=requests.get(url,headers=head,timeout=time)#发送请求\n",
    "        \n",
    "        resp.encoding=resp.apparent_encoding#设置返回内容的字符集编码\n",
    "        #resp.encoding=\"utf-8\"\n",
    "        \n",
    "        resp.raise_for_status()#返回的状态码不等于200抛出异常\n",
    "        \n",
    "        return resp.text#返回网页的文本内容\n",
    "    \n",
    "    except Exception as error:\n",
    "        print(error)\n",
    "\n",
    "info=[]\n",
    "def parser(html):\n",
    "    tree=etree.HTML(html)\n",
    "    for row in tree.xpath(\"//div[@class='g-main']//ul/li\"):\n",
    "        \n",
    "        book_name=row.xpath(\".//h4[@class='name']/a/text()\")[0].strip()#书名\n",
    "        \n",
    "        book_a=row.xpath(\".//div[@class='author']/span[1]/a/text()\")#页面结构发生了变化，此时要做相应的处理才能拿到数据\n",
    "        if len(book_a)==0:\n",
    "            book_author=row.xpath(\".//div[@class='author']/span/text()\")[0].strip()#作者\n",
    "        else:\n",
    "            book_author=row.xpath(\".//div[@class='author']/span[1]/a/text()\")[0].strip()\n",
    "        \n",
    "        book_price=row.xpath(\".//span[@class='paperback']/span/text()\")[0].strip()#价格\n",
    "        \n",
    "        book_url=\"https://www.ryjiaoyu.com\"+row.xpath(\".//h4[@class='name']/a/@href\")[0]#详情链接\n",
    "        \n",
    "        info.append([book_name,book_author,book_price,book_url])\n",
    "        \n",
    "def save_csv(path,item):#将爬取的内容存入csv文件\n",
    "     \n",
    "        with open(path,\"w+\",newline='',encoding=\"utf-8-sig\") as f:\n",
    "            csv_write=csv.writer(f)\n",
    "            csv_write.writerow([\"书名\",\"作者\",\"价格\",\"详情链接\"])\n",
    "            csv_write.writerows(item)        \n",
    "        \n",
    "if __name__==\"__main__\":\n",
    "    \n",
    "    for i in range(0,10):#爬取10页数据\n",
    "        if i==0:\n",
    "            url='https://www.ryjiaoyu.com/book'#爬取第一页的数据\n",
    "        else:\n",
    "            url='https://www.ryjiaoyu.com/book?tab=book&sort=new&mode=List&page={}'.format(str(i))#爬取第一页之后的所有页的数据\n",
    "        html=get_html(url,time=10)\n",
    "        if html==None:\n",
    "            print(\"已爬取全部数据!\\n\")\n",
    "            break\n",
    "        else:\n",
    "            parser(html)\n",
    "        \n",
    "    save_csv(\"E:\\\\an\\\\pclass\\\\爬的内容\\\\books.csv\",info)\n",
    "    print(\"over!\")\n",
    "    "
   ]
  },
  {
   "cell_type": "code",
   "execution_count": 14,
   "id": "623ec875",
   "metadata": {},
   "outputs": [
    {
     "name": "stdout",
     "output_type": "stream",
     "text": [
      "空\n"
     ]
    }
   ],
   "source": [
    "a=[]\n",
    "if len(a)==0:\n",
    "    print(\"空\")\n",
    "else:\n",
    "    print(\"非空\")"
   ]
  },
  {
   "cell_type": "code",
   "execution_count": null,
   "id": "14bf6f9c",
   "metadata": {},
   "outputs": [],
   "source": []
  }
 ],
 "metadata": {
  "kernelspec": {
   "display_name": "Python 3",
   "language": "python",
   "name": "python3"
  },
  "language_info": {
   "codemirror_mode": {
    "name": "ipython",
    "version": 3
   },
   "file_extension": ".py",
   "mimetype": "text/x-python",
   "name": "python",
   "nbconvert_exporter": "python",
   "pygments_lexer": "ipython3",
   "version": "3.8.8"
  },
  "toc": {
   "base_numbering": 1,
   "nav_menu": {},
   "number_sections": true,
   "sideBar": true,
   "skip_h1_title": false,
   "title_cell": "Table of Contents",
   "title_sidebar": "Contents",
   "toc_cell": false,
   "toc_position": {},
   "toc_section_display": true,
   "toc_window_display": false
  }
 },
 "nbformat": 4,
 "nbformat_minor": 5
}
