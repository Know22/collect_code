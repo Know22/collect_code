{
 "cells": [
  {
   "cell_type": "code",
   "execution_count": 7,
   "id": "f187cec2",
   "metadata": {},
   "outputs": [
    {
     "data": {
      "text/html": [
       "<div>\n",
       "<style scoped>\n",
       "    .dataframe tbody tr th:only-of-type {\n",
       "        vertical-align: middle;\n",
       "    }\n",
       "\n",
       "    .dataframe tbody tr th {\n",
       "        vertical-align: top;\n",
       "    }\n",
       "\n",
       "    .dataframe thead th {\n",
       "        text-align: right;\n",
       "    }\n",
       "</style>\n",
       "<table border=\"1\" class=\"dataframe\">\n",
       "  <thead>\n",
       "    <tr style=\"text-align: right;\">\n",
       "      <th></th>\n",
       "      <th>楼盘</th>\n",
       "      <th>地址</th>\n",
       "      <th>单价</th>\n",
       "      <th>总价</th>\n",
       "      <th>户型</th>\n",
       "      <th>面积</th>\n",
       "      <th>年代</th>\n",
       "      <th>方向</th>\n",
       "      <th>楼层</th>\n",
       "      <th>装修</th>\n",
       "      <th>标题</th>\n",
       "      <th>详情url</th>\n",
       "    </tr>\n",
       "  </thead>\n",
       "  <tbody>\n",
       "    <tr>\n",
       "      <th>count</th>\n",
       "      <td>1053</td>\n",
       "      <td>1053</td>\n",
       "      <td>1053</td>\n",
       "      <td>1053</td>\n",
       "      <td>1053</td>\n",
       "      <td>1053</td>\n",
       "      <td>1053</td>\n",
       "      <td>1053</td>\n",
       "      <td>1053</td>\n",
       "      <td>1053</td>\n",
       "      <td>1053</td>\n",
       "      <td>1053</td>\n",
       "    </tr>\n",
       "    <tr>\n",
       "      <th>unique</th>\n",
       "      <td>50</td>\n",
       "      <td>50</td>\n",
       "      <td>74</td>\n",
       "      <td>57</td>\n",
       "      <td>8</td>\n",
       "      <td>71</td>\n",
       "      <td>19</td>\n",
       "      <td>8</td>\n",
       "      <td>32</td>\n",
       "      <td>4</td>\n",
       "      <td>87</td>\n",
       "      <td>84</td>\n",
       "    </tr>\n",
       "    <tr>\n",
       "      <th>top</th>\n",
       "      <td>洺悦城</td>\n",
       "      <td>巴南龙洲湾渝南大道与箭河路交汇处</td>\n",
       "      <td>9391元/㎡</td>\n",
       "      <td>67万</td>\n",
       "      <td>3室2厅1卫</td>\n",
       "      <td>71.4㎡</td>\n",
       "      <td>2019年竣工/普通住宅\\</td>\n",
       "      <td>南</td>\n",
       "      <td>低层(共33层)</td>\n",
       "      <td>精装修</td>\n",
       "      <td>南坪商圈云满庭B区正朝南大两房，光线充足，户型方正</td>\n",
       "      <td>https://cq.58.com/ershoufang/2517567868216334x...</td>\n",
       "    </tr>\n",
       "    <tr>\n",
       "      <th>freq</th>\n",
       "      <td>325</td>\n",
       "      <td>325</td>\n",
       "      <td>52</td>\n",
       "      <td>52</td>\n",
       "      <td>312</td>\n",
       "      <td>52</td>\n",
       "      <td>168</td>\n",
       "      <td>461</td>\n",
       "      <td>118</td>\n",
       "      <td>712</td>\n",
       "      <td>24</td>\n",
       "      <td>24</td>\n",
       "    </tr>\n",
       "  </tbody>\n",
       "</table>\n",
       "</div>"
      ],
      "text/plain": [
       "          楼盘                地址       单价    总价      户型     面积             年代  \\\n",
       "count   1053              1053     1053  1053    1053   1053           1053   \n",
       "unique    50                50       74    57       8     71             19   \n",
       "top      洺悦城  巴南龙洲湾渝南大道与箭河路交汇处  9391元/㎡   67万  3室2厅1卫  71.4㎡  2019年竣工/普通住宅\\   \n",
       "freq     325               325       52    52     312     52            168   \n",
       "\n",
       "          方向        楼层    装修                         标题  \\\n",
       "count   1053      1053  1053                       1053   \n",
       "unique     8        32     4                         87   \n",
       "top        南  低层(共33层)   精装修  南坪商圈云满庭B区正朝南大两房，光线充足，户型方正   \n",
       "freq     461       118   712                         24   \n",
       "\n",
       "                                                    详情url  \n",
       "count                                                1053  \n",
       "unique                                                 84  \n",
       "top     https://cq.58.com/ershoufang/2517567868216334x...  \n",
       "freq                                                   24  "
      ]
     },
     "execution_count": 7,
     "metadata": {},
     "output_type": "execute_result"
    }
   ],
   "source": [
    "import numpy as np\n",
    "import pandas as pd\n",
    "import matplotlib.pyplot as plt\n",
    "plt.rcParams['font.sans-serif'] = ['SimHei']  # 用来正常显示中文标签\n",
    "plt.rcParams['axes.unicode_minus'] = False  # 用来正常显示负号 \n",
    "\n",
    "data=pd.read_csv('E:/an/pclass/contents/ershoufang.csv',encoding='GB18030')\n",
    "# data.shape    #1.了解数据基本信息\n",
    "# data.info()\n",
    "# data.head()\n",
    "# data.describe()"
   ]
  },
  {
   "cell_type": "code",
   "execution_count": 2,
   "id": "52573b83",
   "metadata": {},
   "outputs": [],
   "source": [
    "#2.处理缺失数据\n",
    "# data.dropna()\n",
    "\n"
   ]
  },
  {
   "cell_type": "code",
   "execution_count": 3,
   "id": "00cbfdf0",
   "metadata": {},
   "outputs": [
    {
     "data": {
      "text/html": [
       "<div>\n",
       "<style scoped>\n",
       "    .dataframe tbody tr th:only-of-type {\n",
       "        vertical-align: middle;\n",
       "    }\n",
       "\n",
       "    .dataframe tbody tr th {\n",
       "        vertical-align: top;\n",
       "    }\n",
       "\n",
       "    .dataframe thead th {\n",
       "        text-align: right;\n",
       "    }\n",
       "</style>\n",
       "<table border=\"1\" class=\"dataframe\">\n",
       "  <thead>\n",
       "    <tr style=\"text-align: right;\">\n",
       "      <th></th>\n",
       "      <th>楼盘</th>\n",
       "      <th>地址</th>\n",
       "      <th>单价</th>\n",
       "      <th>总价</th>\n",
       "      <th>户型</th>\n",
       "      <th>面积</th>\n",
       "      <th>年代</th>\n",
       "      <th>方向</th>\n",
       "      <th>楼层</th>\n",
       "      <th>装修</th>\n",
       "      <th>标题</th>\n",
       "      <th>详情url</th>\n",
       "    </tr>\n",
       "  </thead>\n",
       "  <tbody>\n",
       "    <tr>\n",
       "      <th>0</th>\n",
       "      <td>恒景天苑</td>\n",
       "      <td>九龙坡华岩新城田坝二村160-163号</td>\n",
       "      <td>9391.0</td>\n",
       "      <td>67.0</td>\n",
       "      <td>3室2厅1卫</td>\n",
       "      <td>71.4</td>\n",
       "      <td>2016</td>\n",
       "      <td>南北</td>\n",
       "      <td>高层(共30层)</td>\n",
       "      <td>精装修</td>\n",
       "      <td>颜龙山水城 3室2厅 精装修 南北通透 房东急置换 诚意买房</td>\n",
       "      <td>https://cq.58.com/ershoufang/2489182283504648x...</td>\n",
       "    </tr>\n",
       "    <tr>\n",
       "      <th>1</th>\n",
       "      <td>恒景天苑</td>\n",
       "      <td>九龙坡华岩新城田坝二村160-163号</td>\n",
       "      <td>9391.0</td>\n",
       "      <td>67.0</td>\n",
       "      <td>3室2厅1卫</td>\n",
       "      <td>71.4</td>\n",
       "      <td>0</td>\n",
       "      <td>南</td>\n",
       "      <td>0</td>\n",
       "      <td>精装修</td>\n",
       "      <td>两江新区 万华麓悦江城 重庆首开 千亩江城墅区 全屋豪装交付</td>\n",
       "      <td>https://cq.58.com/ershoufang/2307082909821961x...</td>\n",
       "    </tr>\n",
       "    <tr>\n",
       "      <th>2</th>\n",
       "      <td>恒景天苑</td>\n",
       "      <td>九龙坡华岩新城田坝二村160-163号</td>\n",
       "      <td>9391.0</td>\n",
       "      <td>67.0</td>\n",
       "      <td>3室2厅1卫</td>\n",
       "      <td>71.4</td>\n",
       "      <td>2015</td>\n",
       "      <td>南北</td>\n",
       "      <td>低层(共30层)</td>\n",
       "      <td>精装修</td>\n",
       "      <td>总部企业天地旁，正规三房，全网   ，真  格在售</td>\n",
       "      <td>https://cq.58.com/ershoufang/2349081413280783x...</td>\n",
       "    </tr>\n",
       "    <tr>\n",
       "      <th>3</th>\n",
       "      <td>嘉裕国际社区</td>\n",
       "      <td>江津双福新区创业路99号</td>\n",
       "      <td>5109.0</td>\n",
       "      <td>45.8</td>\n",
       "      <td>3室2厅1卫</td>\n",
       "      <td>89.7</td>\n",
       "      <td>2020</td>\n",
       "      <td>南</td>\n",
       "      <td>低层(共18层)</td>\n",
       "      <td>精装修</td>\n",
       "      <td>正南 4室2厅 万科观承观峰三组团 精装修</td>\n",
       "      <td>https://cq.58.com/ershoufang/2524594793339904x...</td>\n",
       "    </tr>\n",
       "    <tr>\n",
       "      <th>4</th>\n",
       "      <td>华宇城</td>\n",
       "      <td>沙坪坝凤天路凤西路169号</td>\n",
       "      <td>13864.0</td>\n",
       "      <td>122.0</td>\n",
       "      <td>3室2厅1卫</td>\n",
       "      <td>88.0</td>\n",
       "      <td>2012</td>\n",
       "      <td>东</td>\n",
       "      <td>低层(共33层)</td>\n",
       "      <td>精装修</td>\n",
       "      <td>杨家坪 保利花半里一期（玫瑰园） 3房</td>\n",
       "      <td>https://cq.58.com/ershoufang/2504268451881984x...</td>\n",
       "    </tr>\n",
       "  </tbody>\n",
       "</table>\n",
       "</div>"
      ],
      "text/plain": [
       "       楼盘                   地址       单价     总价      户型    面积    年代  方向  \\\n",
       "0    恒景天苑  九龙坡华岩新城田坝二村160-163号   9391.0   67.0  3室2厅1卫  71.4  2016  南北   \n",
       "1    恒景天苑  九龙坡华岩新城田坝二村160-163号   9391.0   67.0  3室2厅1卫  71.4     0   南   \n",
       "2    恒景天苑  九龙坡华岩新城田坝二村160-163号   9391.0   67.0  3室2厅1卫  71.4  2015  南北   \n",
       "3  嘉裕国际社区         江津双福新区创业路99号   5109.0   45.8  3室2厅1卫  89.7  2020   南   \n",
       "4     华宇城        沙坪坝凤天路凤西路169号  13864.0  122.0  3室2厅1卫  88.0  2012   东   \n",
       "\n",
       "         楼层   装修                              标题  \\\n",
       "0  高层(共30层)  精装修  颜龙山水城 3室2厅 精装修 南北通透 房东急置换 诚意买房   \n",
       "1         0  精装修  两江新区 万华麓悦江城 重庆首开 千亩江城墅区 全屋豪装交付   \n",
       "2  低层(共30层)  精装修       总部企业天地旁，正规三房，全网   ，真  格在售   \n",
       "3  低层(共18层)  精装修           正南 4室2厅 万科观承观峰三组团 精装修   \n",
       "4  低层(共33层)  精装修             杨家坪 保利花半里一期（玫瑰园） 3房   \n",
       "\n",
       "                                               详情url  \n",
       "0  https://cq.58.com/ershoufang/2489182283504648x...  \n",
       "1  https://cq.58.com/ershoufang/2307082909821961x...  \n",
       "2  https://cq.58.com/ershoufang/2349081413280783x...  \n",
       "3  https://cq.58.com/ershoufang/2524594793339904x...  \n",
       "4  https://cq.58.com/ershoufang/2504268451881984x...  "
      ]
     },
     "execution_count": 3,
     "metadata": {},
     "output_type": "execute_result"
    }
   ],
   "source": [
    "# 5.处理字符型字段\n",
    "for i in data.index:\n",
    "    sy=data.loc[i,['年代']].values\n",
    "    sy2=str(sy)\n",
    "    sy3=sy2.split('/')[0].split(\"['\")[1]\n",
    "    data.loc[i,['年代']]=sy3\n",
    "\n",
    "data[data=='暂无建造年代']=0\n",
    "\n",
    "\n",
    "for i in data.index:\n",
    "    sy=data.loc[i,['年代']].values\n",
    "    if sy!=0:\n",
    "        val=data.loc[i,['年代']].values\n",
    "        val2=str(val)\n",
    "        val3=val2.split('年')[0].split(\"['\")[1]\n",
    "        data.loc[i,['年代']]=int(val3)\n",
    "\n",
    "for i in data.index:\n",
    "    sy=data.loc[i,['楼层']].values\n",
    "    if sy=='暂无楼层':\n",
    "        data.loc[i,['楼层']]=0\n",
    "\n",
    "for i in data.index:\n",
    "    sy=data.loc[i,['单价']].values\n",
    "    sy2=str(sy)\n",
    "    sy3=sy2.split('元')[0].split(\"['\")[1]\n",
    "    data.loc[i,['单价']]=float(sy3)\n",
    "\n",
    "for i in data.index:\n",
    "    sy=data.loc[i,['总价']].values\n",
    "    sy2=str(sy)\n",
    "    sy3=sy2.split('万')[0].split(\"['\")[1]\n",
    "    data.loc[i,['总价']]=float(sy3)\n",
    "\n",
    "for i in data.index:\n",
    "    sy=data.loc[i,['面积']].values\n",
    "    sy2=str(sy)\n",
    "    sy3=sy2.split('㎡')[0].split(\"['\")[1]\n",
    "    data.loc[i,['面积']]=float(sy3)\n",
    "\n",
    "data.head()"
   ]
  },
  {
   "cell_type": "code",
   "execution_count": 5,
   "id": "75a2e57c",
   "metadata": {},
   "outputs": [
    {
     "name": "stdout",
     "output_type": "stream",
     "text": [
      "<class 'pandas.core.frame.DataFrame'>\n",
      "RangeIndex: 1053 entries, 0 to 1052\n",
      "Data columns (total 12 columns):\n",
      " #   Column  Non-Null Count  Dtype \n",
      "---  ------  --------------  ----- \n",
      " 0   楼盘      1053 non-null   object\n",
      " 1   地址      1053 non-null   object\n",
      " 2   单价      1053 non-null   object\n",
      " 3   总价      1053 non-null   object\n",
      " 4   户型      1053 non-null   object\n",
      " 5   面积      1053 non-null   object\n",
      " 6   年代      1053 non-null   object\n",
      " 7   方向      1053 non-null   object\n",
      " 8   楼层      1053 non-null   object\n",
      " 9   装修      1053 non-null   object\n",
      " 10  标题      1053 non-null   object\n",
      " 11  详情url   1053 non-null   object\n",
      "dtypes: object(12)\n",
      "memory usage: 98.8+ KB\n"
     ]
    }
   ],
   "source": [
    "for i in data.index:\n",
    "    sy=data.loc[i,['年代']].values\n",
    "    if sy==0:\n",
    "        data.loc[i,['年代']]=2015\n",
    "data.info()"
   ]
  },
  {
   "cell_type": "code",
   "execution_count": 97,
   "id": "7ff638db",
   "metadata": {},
   "outputs": [],
   "source": [
    "#3.处理异常值\n",
    "# newdata=data[['总价','面积']]\n",
    "# newdata.to_excel('E:/an/pclass/contents/数值.xlsx',index=0)\n",
    "# newdata=pd.read_excel('E:/an/pclass/contents/数值.xlsx')\n",
    "# newdata\n",
    "# newdata=data[['单价']]\n",
    "# newdata.to_excel('E:/an/pclass/contents/数值2.xlsx',index=0)\n",
    "# newdata=data[['年代']]\n",
    "# newdata.to_excel('E:/an/pclass/contents/数值3.xlsx',index=0)"
   ]
  },
  {
   "cell_type": "code",
   "execution_count": 102,
   "id": "a0687a6a",
   "metadata": {},
   "outputs": [],
   "source": [
    "# newdata=data[['单价','总价','面积','年代']]\n",
    "# newdata.to_excel('E:/an/pclass/contents/数值all.xlsx',index=0)\n",
    "newdata=pd.read_excel('E:/an/pclass/contents/数值all.xlsx')"
   ]
  },
  {
   "cell_type": "code",
   "execution_count": 103,
   "id": "1b493db1",
   "metadata": {},
   "outputs": [
    {
     "data": {
      "text/html": [
       "<div>\n",
       "<style scoped>\n",
       "    .dataframe tbody tr th:only-of-type {\n",
       "        vertical-align: middle;\n",
       "    }\n",
       "\n",
       "    .dataframe tbody tr th {\n",
       "        vertical-align: top;\n",
       "    }\n",
       "\n",
       "    .dataframe thead th {\n",
       "        text-align: right;\n",
       "    }\n",
       "</style>\n",
       "<table border=\"1\" class=\"dataframe\">\n",
       "  <thead>\n",
       "    <tr style=\"text-align: right;\">\n",
       "      <th></th>\n",
       "      <th>单价</th>\n",
       "      <th>总价</th>\n",
       "      <th>面积</th>\n",
       "      <th>年代</th>\n",
       "    </tr>\n",
       "  </thead>\n",
       "  <tbody>\n",
       "    <tr>\n",
       "      <th>count</th>\n",
       "      <td>1053.000000</td>\n",
       "      <td>1053.000000</td>\n",
       "      <td>1053.000000</td>\n",
       "      <td>1053.000000</td>\n",
       "    </tr>\n",
       "    <tr>\n",
       "      <th>mean</th>\n",
       "      <td>12198.222222</td>\n",
       "      <td>132.262716</td>\n",
       "      <td>107.393827</td>\n",
       "      <td>2014.528965</td>\n",
       "    </tr>\n",
       "    <tr>\n",
       "      <th>std</th>\n",
       "      <td>3384.770245</td>\n",
       "      <td>62.881537</td>\n",
       "      <td>31.691258</td>\n",
       "      <td>4.310034</td>\n",
       "    </tr>\n",
       "    <tr>\n",
       "      <th>min</th>\n",
       "      <td>5109.000000</td>\n",
       "      <td>40.000000</td>\n",
       "      <td>51.700000</td>\n",
       "      <td>2000.000000</td>\n",
       "    </tr>\n",
       "    <tr>\n",
       "      <th>25%</th>\n",
       "      <td>10469.000000</td>\n",
       "      <td>106.000000</td>\n",
       "      <td>86.200000</td>\n",
       "      <td>2012.000000</td>\n",
       "    </tr>\n",
       "    <tr>\n",
       "      <th>50%</th>\n",
       "      <td>11378.000000</td>\n",
       "      <td>130.000000</td>\n",
       "      <td>100.500000</td>\n",
       "      <td>2015.000000</td>\n",
       "    </tr>\n",
       "    <tr>\n",
       "      <th>75%</th>\n",
       "      <td>13653.000000</td>\n",
       "      <td>151.000000</td>\n",
       "      <td>132.700000</td>\n",
       "      <td>2018.000000</td>\n",
       "    </tr>\n",
       "    <tr>\n",
       "      <th>max</th>\n",
       "      <td>26194.000000</td>\n",
       "      <td>484.500000</td>\n",
       "      <td>228.700000</td>\n",
       "      <td>2020.000000</td>\n",
       "    </tr>\n",
       "  </tbody>\n",
       "</table>\n",
       "</div>"
      ],
      "text/plain": [
       "                 单价           总价           面积           年代\n",
       "count   1053.000000  1053.000000  1053.000000  1053.000000\n",
       "mean   12198.222222   132.262716   107.393827  2014.528965\n",
       "std     3384.770245    62.881537    31.691258     4.310034\n",
       "min     5109.000000    40.000000    51.700000  2000.000000\n",
       "25%    10469.000000   106.000000    86.200000  2012.000000\n",
       "50%    11378.000000   130.000000   100.500000  2015.000000\n",
       "75%    13653.000000   151.000000   132.700000  2018.000000\n",
       "max    26194.000000   484.500000   228.700000  2020.000000"
      ]
     },
     "execution_count": 103,
     "metadata": {},
     "output_type": "execute_result"
    }
   ],
   "source": [
    "static1=newdata.describe()\n",
    "static1"
   ]
  },
  {
   "cell_type": "code",
   "execution_count": 104,
   "id": "1ad8856a",
   "metadata": {},
   "outputs": [
    {
     "data": {
      "text/html": [
       "<div>\n",
       "<style scoped>\n",
       "    .dataframe tbody tr th:only-of-type {\n",
       "        vertical-align: middle;\n",
       "    }\n",
       "\n",
       "    .dataframe tbody tr th {\n",
       "        vertical-align: top;\n",
       "    }\n",
       "\n",
       "    .dataframe thead th {\n",
       "        text-align: right;\n",
       "    }\n",
       "</style>\n",
       "<table border=\"1\" class=\"dataframe\">\n",
       "  <thead>\n",
       "    <tr style=\"text-align: right;\">\n",
       "      <th></th>\n",
       "      <th>单价</th>\n",
       "      <th>总价</th>\n",
       "      <th>面积</th>\n",
       "      <th>年代</th>\n",
       "    </tr>\n",
       "  </thead>\n",
       "  <tbody>\n",
       "    <tr>\n",
       "      <th>25%</th>\n",
       "      <td>10469.0</td>\n",
       "      <td>106.0</td>\n",
       "      <td>86.2</td>\n",
       "      <td>2012.0</td>\n",
       "    </tr>\n",
       "    <tr>\n",
       "      <th>75%</th>\n",
       "      <td>13653.0</td>\n",
       "      <td>151.0</td>\n",
       "      <td>132.7</td>\n",
       "      <td>2018.0</td>\n",
       "    </tr>\n",
       "  </tbody>\n",
       "</table>\n",
       "</div>"
      ],
      "text/plain": [
       "          单价     总价     面积      年代\n",
       "25%  10469.0  106.0   86.2  2012.0\n",
       "75%  13653.0  151.0  132.7  2018.0"
      ]
     },
     "execution_count": 104,
     "metadata": {},
     "output_type": "execute_result"
    }
   ],
   "source": [
    "static1.loc[['25%','75%']] # 显示上四分位 Dataframe"
   ]
  },
  {
   "cell_type": "code",
   "execution_count": 105,
   "id": "dfcb2e22",
   "metadata": {},
   "outputs": [
    {
     "data": {
      "text/plain": [
       "单价    3184.0\n",
       "总价      45.0\n",
       "面积      46.5\n",
       "年代       6.0\n",
       "dtype: float64"
      ]
     },
     "execution_count": 105,
     "metadata": {},
     "output_type": "execute_result"
    }
   ],
   "source": [
    "IQR = static1.loc['75%']-static1.loc['25%']\n",
    "IQR"
   ]
  },
  {
   "cell_type": "code",
   "execution_count": 106,
   "id": "c40da1eb",
   "metadata": {},
   "outputs": [
    {
     "data": {
      "text/plain": [
       "单价    18429.00\n",
       "总价      218.50\n",
       "面积      202.45\n",
       "年代     2027.00\n",
       "dtype: float64"
      ]
     },
     "execution_count": 106,
     "metadata": {},
     "output_type": "execute_result"
    }
   ],
   "source": [
    "Up = static1.loc['75%'] + 1.5 * IQR\n",
    "Up"
   ]
  },
  {
   "cell_type": "code",
   "execution_count": 107,
   "id": "7ddabd84",
   "metadata": {},
   "outputs": [
    {
     "data": {
      "text/plain": [
       "单价    5693.00\n",
       "总价      38.50\n",
       "面积      16.45\n",
       "年代    2003.00\n",
       "dtype: float64"
      ]
     },
     "execution_count": 107,
     "metadata": {},
     "output_type": "execute_result"
    }
   ],
   "source": [
    "Low = static1.loc['25%'] - 1.5 * IQR\n",
    "Low"
   ]
  },
  {
   "cell_type": "code",
   "execution_count": 89,
   "id": "fbe03722",
   "metadata": {},
   "outputs": [
    {
     "data": {
      "image/png": "[encoded data removed]",
      "text/plain": [
       "<Figure size 432x288 with 1 Axes>"
      ]
     },
     "metadata": {
      "needs_background": "light"
     },
     "output_type": "display_data"
    }
   ],
   "source": [
    "# plt.figure()\n",
    "# p = newdata.boxplot(return_type='dict')"
   ]
  },
  {
   "cell_type": "code",
   "execution_count": 98,
   "id": "3296914f",
   "metadata": {},
   "outputs": [
    {
     "data": {
      "image/png": "[encoded data removed]",
      "text/plain": [
       "<Figure size 432x288 with 1 Axes>"
      ]
     },
     "metadata": {
      "needs_background": "light"
     },
     "output_type": "display_data"
    }
   ],
   "source": [
    "# newdata2=pd.read_excel('E:/an/pclass/contents/数值2.xlsx')\n",
    "\n",
    "# plt.figure()\n",
    "# p2 = newdata2.boxplot(return_type='dict')"
   ]
  },
  {
   "cell_type": "code",
   "execution_count": null,
   "id": "1b4704cf",
   "metadata": {},
   "outputs": [],
   "source": []
  },
  {
   "cell_type": "code",
   "execution_count": 99,
   "id": "5946464b",
   "metadata": {},
   "outputs": [
    {
     "data": {
      "image/png": "[encoded data removed]",
      "text/plain": [
       "<Figure size 432x288 with 1 Axes>"
      ]
     },
     "metadata": {
      "needs_background": "light"
     },
     "output_type": "display_data"
    }
   ],
   "source": [
    "# newdata3=pd.read_excel('E:/an/pclass/contents/数值3.xlsx')\n",
    "\n",
    "# plt.figure()\n",
    "# p3 = newdata3.boxplot(return_type='dict')"
   ]
  },
  {
   "cell_type": "code",
   "execution_count": 100,
   "id": "27476e5d",
   "metadata": {},
   "outputs": [
    {
     "data": {
      "text/html": [
       "<div>\n",
       "<style scoped>\n",
       "    .dataframe tbody tr th:only-of-type {\n",
       "        vertical-align: middle;\n",
       "    }\n",
       "\n",
       "    .dataframe tbody tr th {\n",
       "        vertical-align: top;\n",
       "    }\n",
       "\n",
       "    .dataframe thead th {\n",
       "        text-align: right;\n",
       "    }\n",
       "</style>\n",
       "<table border=\"1\" class=\"dataframe\">\n",
       "  <thead>\n",
       "    <tr style=\"text-align: right;\">\n",
       "      <th></th>\n",
       "      <th>年代</th>\n",
       "    </tr>\n",
       "  </thead>\n",
       "  <tbody>\n",
       "    <tr>\n",
       "      <th>count</th>\n",
       "      <td>1053.000000</td>\n",
       "    </tr>\n",
       "    <tr>\n",
       "      <th>mean</th>\n",
       "      <td>2014.528965</td>\n",
       "    </tr>\n",
       "    <tr>\n",
       "      <th>std</th>\n",
       "      <td>4.310034</td>\n",
       "    </tr>\n",
       "    <tr>\n",
       "      <th>min</th>\n",
       "      <td>2000.000000</td>\n",
       "    </tr>\n",
       "    <tr>\n",
       "      <th>25%</th>\n",
       "      <td>2012.000000</td>\n",
       "    </tr>\n",
       "    <tr>\n",
       "      <th>50%</th>\n",
       "      <td>2015.000000</td>\n",
       "    </tr>\n",
       "    <tr>\n",
       "      <th>75%</th>\n",
       "      <td>2018.000000</td>\n",
       "    </tr>\n",
       "    <tr>\n",
       "      <th>max</th>\n",
       "      <td>2020.000000</td>\n",
       "    </tr>\n",
       "  </tbody>\n",
       "</table>\n",
       "</div>"
      ],
      "text/plain": [
       "                年代\n",
       "count  1053.000000\n",
       "mean   2014.528965\n",
       "std       4.310034\n",
       "min    2000.000000\n",
       "25%    2012.000000\n",
       "50%    2015.000000\n",
       "75%    2018.000000\n",
       "max    2020.000000"
      ]
     },
     "execution_count": 100,
     "metadata": {},
     "output_type": "execute_result"
    }
   ],
   "source": [
    "# newdata3.describe()"
   ]
  },
  {
   "cell_type": "code",
   "execution_count": 29,
   "id": "61ebe1ac",
   "metadata": {},
   "outputs": [
    {
     "name": "stdout",
     "output_type": "stream",
     "text": [
      "0       False\n",
      "1       False\n",
      "2       False\n",
      "3       False\n",
      "4       False\n",
      "        ...  \n",
      "1048    False\n",
      "1049    False\n",
      "1050    False\n",
      "1051    False\n",
      "1052    False\n",
      "Length: 1053, dtype: bool\n"
     ]
    },
    {
     "data": {
      "text/plain": [
       "(1053, 12)"
      ]
     },
     "execution_count": 29,
     "metadata": {},
     "output_type": "execute_result"
    }
   ],
   "source": [
    "# 4.处理重复记录\n",
    "# s=data.duplicated()\n",
    "# print(s)\n",
    "# data.drop_duplicates(inplace = False)\n"
   ]
  },
  {
   "cell_type": "code",
   "execution_count": 12,
   "id": "d450fb79",
   "metadata": {},
   "outputs": [],
   "source": [
    "# for i in data.index:\n",
    "#     sy=data.loc[i,['年代']].values\n",
    "#     sy2=str(sy)\n",
    "#     sy3=sy2.split('/')[0].split(\"['\")[1]\n",
    "#     data.loc[i,['年代']]=sy3\n",
    "# #     print(sy3)"
   ]
  },
  {
   "cell_type": "code",
   "execution_count": 13,
   "id": "44cfc6f7",
   "metadata": {},
   "outputs": [],
   "source": [
    "# data[data=='暂无建造年代']=0"
   ]
  },
  {
   "cell_type": "code",
   "execution_count": 14,
   "id": "3cf5a034",
   "metadata": {},
   "outputs": [],
   "source": [
    "# 5.处理字符型字段\n",
    "# for i in data.index:\n",
    "#     sy=data.loc[i,['年代']].values\n",
    "#     if sy!=0:\n",
    "#         val=data.loc[i,['年代']].values\n",
    "#         val2=str(val)\n",
    "#         val3=val2.split('年')[0].split(\"['\")[1]\n",
    "#         data.loc[i,['年代']]=val3\n",
    "#         print(val3)\n",
    "# for i in data.index:\n",
    "#     sy=data.loc[i,['楼层']].values\n",
    "#     if sy=='暂无楼层':\n",
    "#         data.loc[i,['楼层']]=0"
   ]
  },
  {
   "cell_type": "code",
   "execution_count": 15,
   "id": "f79d15b0",
   "metadata": {},
   "outputs": [
    {
     "data": {
      "text/html": [
       "<div>\n",
       "<style scoped>\n",
       "    .dataframe tbody tr th:only-of-type {\n",
       "        vertical-align: middle;\n",
       "    }\n",
       "\n",
       "    .dataframe tbody tr th {\n",
       "        vertical-align: top;\n",
       "    }\n",
       "\n",
       "    .dataframe thead th {\n",
       "        text-align: right;\n",
       "    }\n",
       "</style>\n",
       "<table border=\"1\" class=\"dataframe\">\n",
       "  <thead>\n",
       "    <tr style=\"text-align: right;\">\n",
       "      <th></th>\n",
       "      <th>楼盘</th>\n",
       "      <th>地址</th>\n",
       "      <th>单价</th>\n",
       "      <th>总价</th>\n",
       "      <th>户型</th>\n",
       "      <th>面积</th>\n",
       "      <th>年代</th>\n",
       "      <th>方向</th>\n",
       "      <th>楼层</th>\n",
       "      <th>装修</th>\n",
       "      <th>标题</th>\n",
       "      <th>详情url</th>\n",
       "    </tr>\n",
       "  </thead>\n",
       "  <tbody>\n",
       "    <tr>\n",
       "      <th>0</th>\n",
       "      <td>恒景天苑</td>\n",
       "      <td>九龙坡华岩新城田坝二村160-163号</td>\n",
       "      <td>9391元/㎡</td>\n",
       "      <td>67万</td>\n",
       "      <td>3室2厅1卫</td>\n",
       "      <td>71.4㎡</td>\n",
       "      <td>2016</td>\n",
       "      <td>南北</td>\n",
       "      <td>高层(共30层)</td>\n",
       "      <td>精装修</td>\n",
       "      <td>颜龙山水城 3室2厅 精装修 南北通透 房东急置换 诚意买房</td>\n",
       "      <td>https://cq.58.com/ershoufang/2489182283504648x...</td>\n",
       "    </tr>\n",
       "    <tr>\n",
       "      <th>1</th>\n",
       "      <td>恒景天苑</td>\n",
       "      <td>九龙坡华岩新城田坝二村160-163号</td>\n",
       "      <td>9391元/㎡</td>\n",
       "      <td>67万</td>\n",
       "      <td>3室2厅1卫</td>\n",
       "      <td>71.4㎡</td>\n",
       "      <td>0</td>\n",
       "      <td>南</td>\n",
       "      <td>0</td>\n",
       "      <td>精装修</td>\n",
       "      <td>两江新区 万华麓悦江城 重庆首开 千亩江城墅区 全屋豪装交付</td>\n",
       "      <td>https://cq.58.com/ershoufang/2307082909821961x...</td>\n",
       "    </tr>\n",
       "    <tr>\n",
       "      <th>2</th>\n",
       "      <td>恒景天苑</td>\n",
       "      <td>九龙坡华岩新城田坝二村160-163号</td>\n",
       "      <td>9391元/㎡</td>\n",
       "      <td>67万</td>\n",
       "      <td>3室2厅1卫</td>\n",
       "      <td>71.4㎡</td>\n",
       "      <td>2015</td>\n",
       "      <td>南北</td>\n",
       "      <td>低层(共30层)</td>\n",
       "      <td>精装修</td>\n",
       "      <td>总部企业天地旁，正规三房，全网   ，真  格在售</td>\n",
       "      <td>https://cq.58.com/ershoufang/2349081413280783x...</td>\n",
       "    </tr>\n",
       "    <tr>\n",
       "      <th>3</th>\n",
       "      <td>嘉裕国际社区</td>\n",
       "      <td>江津双福新区创业路99号</td>\n",
       "      <td>5109元/㎡</td>\n",
       "      <td>45.8万</td>\n",
       "      <td>3室2厅1卫</td>\n",
       "      <td>89.7㎡</td>\n",
       "      <td>2020</td>\n",
       "      <td>南</td>\n",
       "      <td>低层(共18层)</td>\n",
       "      <td>精装修</td>\n",
       "      <td>正南 4室2厅 万科观承观峰三组团 精装修</td>\n",
       "      <td>https://cq.58.com/ershoufang/2524594793339904x...</td>\n",
       "    </tr>\n",
       "    <tr>\n",
       "      <th>4</th>\n",
       "      <td>华宇城</td>\n",
       "      <td>沙坪坝凤天路凤西路169号</td>\n",
       "      <td>13864元/㎡</td>\n",
       "      <td>122万</td>\n",
       "      <td>3室2厅1卫</td>\n",
       "      <td>88㎡</td>\n",
       "      <td>2012</td>\n",
       "      <td>东</td>\n",
       "      <td>低层(共33层)</td>\n",
       "      <td>精装修</td>\n",
       "      <td>杨家坪 保利花半里一期（玫瑰园） 3房</td>\n",
       "      <td>https://cq.58.com/ershoufang/2504268451881984x...</td>\n",
       "    </tr>\n",
       "  </tbody>\n",
       "</table>\n",
       "</div>"
      ],
      "text/plain": [
       "       楼盘                   地址        单价     总价      户型     面积    年代  方向  \\\n",
       "0    恒景天苑  九龙坡华岩新城田坝二村160-163号   9391元/㎡    67万  3室2厅1卫  71.4㎡  2016  南北   \n",
       "1    恒景天苑  九龙坡华岩新城田坝二村160-163号   9391元/㎡    67万  3室2厅1卫  71.4㎡     0   南   \n",
       "2    恒景天苑  九龙坡华岩新城田坝二村160-163号   9391元/㎡    67万  3室2厅1卫  71.4㎡  2015  南北   \n",
       "3  嘉裕国际社区         江津双福新区创业路99号   5109元/㎡  45.8万  3室2厅1卫  89.7㎡  2020   南   \n",
       "4     华宇城        沙坪坝凤天路凤西路169号  13864元/㎡   122万  3室2厅1卫    88㎡  2012   东   \n",
       "\n",
       "         楼层   装修                              标题  \\\n",
       "0  高层(共30层)  精装修  颜龙山水城 3室2厅 精装修 南北通透 房东急置换 诚意买房   \n",
       "1         0  精装修  两江新区 万华麓悦江城 重庆首开 千亩江城墅区 全屋豪装交付   \n",
       "2  低层(共30层)  精装修       总部企业天地旁，正规三房，全网   ，真  格在售   \n",
       "3  低层(共18层)  精装修           正南 4室2厅 万科观承观峰三组团 精装修   \n",
       "4  低层(共33层)  精装修             杨家坪 保利花半里一期（玫瑰园） 3房   \n",
       "\n",
       "                                               详情url  \n",
       "0  https://cq.58.com/ershoufang/2489182283504648x...  \n",
       "1  https://cq.58.com/ershoufang/2307082909821961x...  \n",
       "2  https://cq.58.com/ershoufang/2349081413280783x...  \n",
       "3  https://cq.58.com/ershoufang/2524594793339904x...  \n",
       "4  https://cq.58.com/ershoufang/2504268451881984x...  "
      ]
     },
     "execution_count": 15,
     "metadata": {},
     "output_type": "execute_result"
    }
   ],
   "source": [
    "# data.head()"
   ]
  },
  {
   "cell_type": "code",
   "execution_count": null,
   "id": "bf677c04",
   "metadata": {},
   "outputs": [],
   "source": [
    "\n",
    "\n",
    "\n"
   ]
  },
  {
   "cell_type": "code",
   "execution_count": null,
   "id": "cab23b24",
   "metadata": {},
   "outputs": [],
   "source": []
  },
  {
   "cell_type": "code",
   "execution_count": 33,
   "id": "89e5feb5",
   "metadata": {},
   "outputs": [],
   "source": [
    "\n"
   ]
  },
  {
   "cell_type": "code",
   "execution_count": null,
   "id": "2379ee57",
   "metadata": {},
   "outputs": [],
   "source": []
  },
  {
   "cell_type": "code",
   "execution_count": null,
   "id": "9dd80728",
   "metadata": {},
   "outputs": [],
   "source": [
    "\n",
    "        "
   ]
  },
  {
   "cell_type": "code",
   "execution_count": null,
   "id": "c8d7e3d7",
   "metadata": {},
   "outputs": [],
   "source": []
  },
  {
   "cell_type": "code",
   "execution_count": null,
   "id": "f2fbb315",
   "metadata": {},
   "outputs": [],
   "source": []
  }
 ],
 "metadata": {
  "kernelspec": {
   "display_name": "Python 3",
   "language": "python",
   "name": "python3"
  },
  "language_info": {
   "codemirror_mode": {
    "name": "ipython",
    "version": 3
   },
   "file_extension": ".py",
   "mimetype": "text/x-python",
   "name": "python",
   "nbconvert_exporter": "python",
   "pygments_lexer": "ipython3",
   "version": "3.8.8"
  },
  "toc": {
   "base_numbering": 1,
   "nav_menu": {},
   "number_sections": true,
   "sideBar": true,
   "skip_h1_title": false,
   "title_cell": "Table of Contents",
   "title_sidebar": "Contents",
   "toc_cell": false,
   "toc_position": {},
   "toc_section_display": true,
   "toc_window_display": false
  }
 },
 "nbformat": 4,
 "nbformat_minor": 5
}
