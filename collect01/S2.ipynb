{
 "cells": [
  {
   "cell_type": "code",
   "execution_count": 1,
   "id": "02afa38d",
   "metadata": {},
   "outputs": [
    {
     "name": "stdout",
     "output_type": "stream",
     "text": [
      "第2页完成！\n",
      "第3页完成！\n",
      "第4页完成！\n",
      "第5页完成！\n",
      "第6页完成！\n",
      "第7页完成！\n",
      "第8页完成！\n",
      "第9页完成！\n",
      "第10页完成！\n",
      "第11页完成！\n"
     ]
    }
   ],
   "source": [
    "import requests\n",
    "import csv\n",
    "from bs4 import BeautifulSoup as BS\n",
    "\n",
    "def get_html(url,time=10):\n",
    "    try:\n",
    "        head={\"User-Agent\":\"Mozilla/5.0 (Windows NT 10.0; Win64; x64) AppleWebKit/537.36 (KHTML, like Gecko) Chrome/100.0.4896.60 Safari/537.36\"}\n",
    "        \n",
    "        resp=requests.get(url,headers=head,timeout=time)#发送请求\n",
    "        \n",
    "        #resp.encoding=resp.apparent_encoding#设置返回内容的字符集编码\n",
    "        resp.encoding=\"utf-8\"\n",
    "        \n",
    "        resp.raise_for_status()#返回的状态码不等于200抛出异常\n",
    "        \n",
    "        return resp.text#返回网页的文本内容\n",
    "    \n",
    "    except Exception as error:\n",
    "        print(error)\n",
    "        \n",
    "info=[]\n",
    "def parser(html):\n",
    "    \n",
    "    soup=BS(html,\"lxml\")\n",
    "    sou_p=soup.select(\"#comments>div\")\n",
    "    del sou_p[-1]\n",
    "    \n",
    "    for row in sou_p:\n",
    "    \n",
    "        user_name=row.select(\".comment>h3>.comment-info>a\")[0].text.strip()#评论者姓名\n",
    "        \n",
    "        user_time=row.select(\".comment>h3>.comment-info>.comment-time\")[0].text.strip()#评论时间\n",
    "        \n",
    "        user_text=row.select(\".comment>.comment-content>span\")[0].text.strip().replace('\\n','')#评论内容\n",
    "        \n",
    "        info.append([user_name,user_time,user_text])\n",
    "\n",
    "def save_csv(path,item):#将爬取的内容存入csv文件\n",
    "     \n",
    "        with open(path,\"w+\",newline='',encoding=\"utf-8-sig\") as f:\n",
    "            csv_write=csv.writer(f)\n",
    "            csv_write.writerow([\"评论者姓名\",\"评论时间\",\"评论内容\"])\n",
    "            csv_write.writerows(item)\n",
    "\n",
    "if __name__==\"__main__\":\n",
    "    \n",
    "    f_url=\"https://movie.douban.com/subject/32659890/comments\"\n",
    "    for i in range(2,12):#爬11页数据\n",
    "        k=20*(i-1)\n",
    "        url=f_url+\"?start={}&limit=20&status=P&sort=new_score\".format(str(k))\n",
    "        \n",
    "        html=get_html(url,time=10)\n",
    "    \n",
    "        parser(html)\n",
    "        \n",
    "        print(\"第{}页完成！\".format(i))\n",
    "        \n",
    "    save_csv(\"E:\\\\an\\\\pclass\\\\爬的内容\\\\news.csv\",info)\n",
    "    "
   ]
  },
  {
   "cell_type": "code",
   "execution_count": null,
   "id": "ed42af02",
   "metadata": {},
   "outputs": [],
   "source": []
  }
 ],
 "metadata": {
  "kernelspec": {
   "display_name": "Python 3",
   "language": "python",
   "name": "python3"
  },
  "language_info": {
   "codemirror_mode": {
    "name": "ipython",
    "version": 3
   },
   "file_extension": ".py",
   "mimetype": "text/x-python",
   "name": "python",
   "nbconvert_exporter": "python",
   "pygments_lexer": "ipython3",
   "version": "3.8.8"
  }
 },
 "nbformat": 4,
 "nbformat_minor": 5
}
