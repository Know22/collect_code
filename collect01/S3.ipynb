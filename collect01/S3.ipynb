{
 "cells": [
  {
   "cell_type": "code",
   "execution_count": 2,
   "id": "52e3db0c",
   "metadata": {},
   "outputs": [
    {
     "name": "stdout",
     "output_type": "stream",
     "text": [
      "over!\n"
     ]
    }
   ],
   "source": [
    "import requests\n",
    "import csv\n",
    "from lxml import etree\n",
    "\n",
    "def get_html(url,time=10):\n",
    "    try:\n",
    "        head={\"User-Agent\":\"Mozilla/5.0 (Windows NT 10.0; Win64; x64) AppleWebKit/537.36 (KHTML, like Gecko) Chrome/100.0.4896.60 Safari/537.36\"}\n",
    "        \n",
    "        resp=requests.get(url,headers=head,timeout=time)#发送请求\n",
    "        \n",
    "        resp.encoding=resp.apparent_encoding#设置返回内容的字符集编码\n",
    "        #resp.encoding=\"utf-8\"\n",
    "        resp.raise_for_status()#返回的状态码不等于200抛出异常\n",
    "        \n",
    "        return resp.text#返回网页的文本内容\n",
    "    except Exception as error:\n",
    "        print(error)\n",
    "info=[]\n",
    "def parser(html):\n",
    "    tree=etree.HTML(html)\n",
    "    for row in tree.xpath(\"//*[@id='main']/div[3]/div[1]/a\"):\n",
    "        \n",
    "        course_name=row.xpath(\"./p[1]/text()\")[0].strip()#课程的名称\n",
    "        \n",
    "        learn_num=row.xpath(\"./p[2]/text()\")[0].strip().split(\"·\")[1].split(\"人\")[0]#学习人数(完成了拓展内容)\n",
    "        \n",
    "        course_url='http:'+row.xpath(\"./@href\")[0]#课程链接\n",
    "        \n",
    "        img_url='http:'+row.xpath(\"./div/@style\")[0].split(\"('\")[1].split(\"')\")[0]#课程的图片url(完成了拓展内容)\n",
    "        \n",
    "        info.append([course_name,learn_num,course_url,img_url])\n",
    "        \n",
    "def save_csv(path,item):#将爬取的内容存入csv文件\n",
    "        with open(path,\"w+\",newline='',encoding=\"utf-8-sig\") as f:\n",
    "            csv_write=csv.writer(f) #创建CSV对象\n",
    "            csv_write.writerow([\"课程的名称\",\"学习人数\",\"课程链接\",\"课程的图片url\"])\n",
    "            csv_write.writerows(item) #批量写入多行数据       \n",
    "        \n",
    "if __name__==\"__main__\":\n",
    "    \n",
    "    for i in range(1,23):\n",
    "        if i==1:\n",
    "            url='http://www.imooc.com/course/list'#爬取第一页的数据\n",
    "        else:\n",
    "            url='http://www.imooc.com/course/list?page={}'.format(str(i))#爬取第一页之后的所有页的数据\n",
    "        html=get_html(url,time=10)\n",
    "        if html==None:\n",
    "            print(\"已爬取全部数据!\\n\")\n",
    "            break\n",
    "        else:\n",
    "            parser(html)\n",
    "        \n",
    "    save_csv(\"E:\\\\an\\\\pclass\\\\爬的内容\\\\mooc.csv\",info)\n",
    "    print('over!')\n",
    "    "
   ]
  },
  {
   "cell_type": "code",
   "execution_count": null,
   "id": "5050ee9d",
   "metadata": {},
   "outputs": [],
   "source": []
  }
 ],
 "metadata": {
  "kernelspec": {
   "display_name": "Python 3",
   "language": "python",
   "name": "python3"
  },
  "language_info": {
   "codemirror_mode": {
    "name": "ipython",
    "version": 3
   },
   "file_extension": ".py",
   "mimetype": "text/x-python",
   "name": "python",
   "nbconvert_exporter": "python",
   "pygments_lexer": "ipython3",
   "version": "3.8.8"
  },
  "toc": {
   "base_numbering": 1,
   "nav_menu": {},
   "number_sections": true,
   "sideBar": true,
   "skip_h1_title": false,
   "title_cell": "Table of Contents",
   "title_sidebar": "Contents",
   "toc_cell": false,
   "toc_position": {},
   "toc_section_display": true,
   "toc_window_display": false
  }
 },
 "nbformat": 4,
 "nbformat_minor": 5
}
