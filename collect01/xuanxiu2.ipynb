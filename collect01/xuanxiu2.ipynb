{
 "cells": [
  {
   "cell_type": "code",
   "execution_count": 14,
   "id": "e41faa00",
   "metadata": {},
   "outputs": [
    {
     "name": "stdout",
     "output_type": "stream",
     "text": [
      "[['东航MU5735在广西藤县发生事故', '237W个内容'], ['MU5735现场视频', '166.4W个内容'], ['世界十大空难', '155.3W个内容'], ['MU5735失事航班正在救援中', '146.1W个内容'], ['东航停飞全部737-800客机', '127.2W个内容'], ['足时发酵的酸豆角也来了', '111.7W个内容'], ['明日方舟：终末地', '81.2W个内容'], ['吉林新增1542例福建新增154例', '72.1W个内容'], ['湖北警官学院回应学生发布不良信息', '67.7W个内容'], ['《租借女友》第2季七月开播', '47.6W个内容'], ['F1巴林大奖赛中国车手周冠宇首秀拿分', '35.1W个内容'], ['在英失联19天女留学生已找到', '33.7W个内容'], ['如何判断自己是否失眠？', '28.6W个内容'], ['北京一阳性人员曾隐瞒去过涉疫烤鸭店', '22.5W个内容'], ['艾尔登法环战灰吧友评测', '18.7W个内容'], ['上海新增734例本土无症状', '13.2W个内容'], ['JDG战胜WBG', '10.3W个内容'], ['什么情况下你会毫不犹豫地辞职？', '8.2W个内容'], ['国际田联认证中国接力队奥运铜牌', '7.1W个内容'], ['新蝙蝠侠票房口碑', '5.4W个内容'], ['本周热门短篇排行榜', '3.9W个内容'], ['今麦郎称百分百民营企业', '3.2W个内容'], ['张学友时隔六年重返影坛', '2.6W个内容'], ['如何看待戴卡奥特曼的指示灯', '2W个内容'], ['见过最真实的小概率事件是什么', '1.5W个内容'], ['网友曝iOS15.4升级后续航拉跨', '1.4W个内容']]\n"
     ]
    }
   ],
   "source": [
    "import requests\n",
    "from bs4 import BeautifulSoup as BS\n",
    "import pandas as pd\n",
    "\n",
    "url=\"http://tieba.baidu.com/hottopic/browse/topicList?res_type=1&red_tag=p1031954089\"\n",
    "\n",
    "resp=requests.get(url)\n",
    "\n",
    "soup=BS(resp.text,\"html.parser\")\n",
    "\n",
    "page=soup.select(\".topic-top-list>li\")\n",
    "\n",
    "xinxi=[]\n",
    "for i in page:\n",
    "    title=i.find(\"a\")\n",
    "    num=i.find(\"span\",class_=\"topic-num\")\n",
    "    \n",
    "    x=[title.text.strip(),num.text.strip()]\n",
    "    xinxi.append(x)\n",
    "data=pd.DataFrame(xinxi,columns=[\"话题\",\"热度\"])\n",
    "data.to_excel()\n",
    "\n",
    "                      \n",
    "    \n",
    "\n",
    "\n"
   ]
  },
  {
   "cell_type": "code",
   "execution_count": null,
   "id": "46accca0",
   "metadata": {},
   "outputs": [],
   "source": []
  }
 ],
 "metadata": {
  "kernelspec": {
   "display_name": "Python 3",
   "language": "python",
   "name": "python3"
  },
  "language_info": {
   "codemirror_mode": {
    "name": "ipython",
    "version": 3
   },
   "file_extension": ".py",
   "mimetype": "text/x-python",
   "name": "python",
   "nbconvert_exporter": "python",
   "pygments_lexer": "ipython3",
   "version": "3.8.8"
  }
 },
 "nbformat": 4,
 "nbformat_minor": 5
}
