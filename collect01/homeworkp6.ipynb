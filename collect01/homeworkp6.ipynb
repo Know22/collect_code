{
 "cells": [
  {
   "cell_type": "code",
   "execution_count": 12,
   "id": "a0422ad1",
   "metadata": {},
   "outputs": [
    {
     "name": "stdout",
     "output_type": "stream",
     "text": [
      "已存储全部数据！\n"
     ]
    }
   ],
   "source": [
    "from selenium import webdriver\n",
    "from selenium.webdriver.common.by import By\n",
    "import time\n",
    "import pymysql\n",
    "\n",
    "def get_html(url):\n",
    "    web=webdriver.Chrome()\n",
    "    web.get(url)\n",
    "    time.sleep(1)\n",
    "    web.find_element(by=By.XPATH,value='//div[@id=\"hotBook\"]/div[2]/div[1]/span[9]').click()\n",
    "    time.sleep(1)\n",
    "    return web.find_elements(by=By.XPATH,value='//div[@class=\"list\"]/div')\n",
    "    \n",
    "info=[]\n",
    "def parser(obj):\n",
    "    for row in obj:\n",
    "        b_name=row.find_element(by=By.TAG_NAME,value='p').text#书名\n",
    "        i_url=row.find_element(by=By.TAG_NAME,value='img').get_attribute('src')#图片链接\n",
    "        b_id=1#图书ID\n",
    "        info.append((b_name,i_url,b_id))\n",
    "\n",
    "def save_mysql(sql,val,**dbinfo):  # 将爬取的内容存入mysql数据库\n",
    "    try:\n",
    "        con = pymysql.connect(**dbinfo)  # 连接mysql数据库\n",
    "        cur = con.cursor()  # 创建游标对象\n",
    "        cur.executemany(sql,val)\n",
    "        con.commit()\n",
    "    except Exception as e:  # 若报错，则获得错误类型\n",
    "        con.rollback()\n",
    "        print(e)\n",
    "    finally:\n",
    "        cur.close()  # 关闭游标\n",
    "        con.close()  # 关闭链接\n",
    "    \n",
    "if __name__=='__main__':\n",
    "    url='https://www.ptpress.com.cn/shopping/index'\n",
    "    obj=get_html(url)\n",
    "    parser(obj)\n",
    "\n",
    "    parms={\n",
    "        \"host\":\"localhost\",\n",
    "        \"user\":\"root\",\n",
    "        \"password\": \"root\",\n",
    "        \"database\":\"study\",\n",
    "        \"port\":3306\n",
    "    }\n",
    "    sql='insert into youdian(b_name,i_url,b_id) values(%s,%s,%s)'\n",
    "    save_mysql(sql,info,**parms)\n",
    "    print(\"已存储全部数据！\")\n"
   ]
  },
  {
   "cell_type": "code",
   "execution_count": null,
   "id": "c77470e3",
   "metadata": {},
   "outputs": [],
   "source": []
  }
 ],
 "metadata": {
  "kernelspec": {
   "display_name": "Python 3",
   "language": "python",
   "name": "python3"
  },
  "language_info": {
   "codemirror_mode": {
    "name": "ipython",
    "version": 3
   },
   "file_extension": ".py",
   "mimetype": "text/x-python",
   "name": "python",
   "nbconvert_exporter": "python",
   "pygments_lexer": "ipython3",
   "version": "3.8.8"
  },
  "toc": {
   "base_numbering": 1,
   "nav_menu": {},
   "number_sections": true,
   "sideBar": true,
   "skip_h1_title": false,
   "title_cell": "Table of Contents",
   "title_sidebar": "Contents",
   "toc_cell": false,
   "toc_position": {},
   "toc_section_display": true,
   "toc_window_display": false
  }
 },
 "nbformat": 4,
 "nbformat_minor": 5
}
