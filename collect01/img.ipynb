{
 "cells": [
  {
   "cell_type": "code",
   "execution_count": 19,
   "id": "4fb83bbc",
   "metadata": {},
   "outputs": [
    {
     "name": "stdout",
     "output_type": "stream",
     "text": [
      "over!\n",
      "over!\n",
      "over!\n",
      "over!\n",
      "over!\n",
      "over!\n",
      "over!\n",
      "over!\n",
      "over!\n",
      "over!\n",
      "over!\n",
      "over!\n",
      "over!\n",
      "over!\n",
      "over!\n",
      "over!\n",
      "over!\n",
      "over!\n",
      "over!\n"
     ]
    }
   ],
   "source": [
    "import requests\n",
    "from bs4 import BeautifulSoup as BS\n",
    "\n",
    "url=\"http://www.netbian.com/1920x1080/index.htm\"\n",
    "\n",
    "resp=requests.get(url)\n",
    "resp.encoding=\"gbk\"\n",
    "#print(resp.text)\n",
    "\n",
    "soup=BS(resp.text,\"html.parser\")\n",
    "\n",
    "page=soup.select(\".list>ul>li>a\")\n",
    "\n",
    "for i in page:\n",
    "    \n",
    "    href=i.get(\"href\")\n",
    "    child_url=\"http://www.netbian.com\"+href\n",
    "    \n",
    "    child_resp=requests.get(child_url)\n",
    "    child_resp.encoding=\"gbk\"\n",
    "    #print(child_resp.text)\n",
    "    \n",
    "    child_soup=BS(child_resp.text,\"html.parser\")\n",
    "    \n",
    "    child_page=child_soup.find(\"p\")\n",
    "    img=child_page.find(\"img\")\n",
    "    img_url=img.get(\"src\")\n",
    "    \n",
    "    img_resp=requests.get(img_url)\n",
    "    \n",
    "    img_name=img_url.split(\"/\")[-1]\n",
    "    \n",
    "    with open(\"爬的图片/\"+img_name,\"wb\") as f:\n",
    "        f.write(img_resp.content)\n",
    "\n",
    "    print(\"over!\")\n",
    "\n",
    "\n"
   ]
  },
  {
   "cell_type": "code",
   "execution_count": null,
   "id": "4802d357",
   "metadata": {},
   "outputs": [],
   "source": []
  }
 ],
 "metadata": {
  "kernelspec": {
   "display_name": "Python 3",
   "language": "python",
   "name": "python3"
  },
  "language_info": {
   "codemirror_mode": {
    "name": "ipython",
    "version": 3
   },
   "file_extension": ".py",
   "mimetype": "text/x-python",
   "name": "python",
   "nbconvert_exporter": "python",
   "pygments_lexer": "ipython3",
   "version": "3.8.8"
  }
 },
 "nbformat": 4,
 "nbformat_minor": 5
}
