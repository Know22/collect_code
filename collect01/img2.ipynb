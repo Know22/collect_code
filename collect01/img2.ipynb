{
 "cells": [
  {
   "cell_type": "code",
   "execution_count": 34,
   "id": "0b33ea3a",
   "metadata": {},
   "outputs": [
    {
     "name": "stdout",
     "output_type": "stream",
     "text": [
      "over!\n",
      "over!\n",
      "over!\n",
      "over!\n",
      "over!\n",
      "over!\n",
      "over!\n",
      "over!\n",
      "over!\n",
      "over!\n",
      "over!\n",
      "over!\n",
      "over!\n",
      "over!\n",
      "over!\n",
      "over!\n",
      "over!\n",
      "over!\n"
     ]
    }
   ],
   "source": [
    "import requests\n",
    "from lxml import etree\n",
    "\n",
    "def get_html(url):\n",
    "    try:\n",
    "        resp=requests.get(url)\n",
    "        resp.encoding=resp.apparent_encoding\n",
    "        resp.raise_for_status()\n",
    "        return resp.text\n",
    "    except exception as error:\n",
    "        print(error)\n",
    "\n",
    "def parser_and_save(html):\n",
    "    tree=etree.HTML(html)\n",
    "    \n",
    "    img_li=tree.xpath('//div[@class=\"list\"]/ul//li')\n",
    "    img_li.pop(2)\n",
    "    img_li.pop(18)\n",
    "    #print(len(img_li))    \n",
    "    for img in img_li:\n",
    "    \n",
    "        img_path=img.xpath(\"./a/img/@src\")[0]\n",
    "    \n",
    "        img_name=img.xpath(\"./a/img/@alt\")[0]+\".png\"\n",
    "        #print(img_name)\n",
    "        img_resp=requests.get(img_path)\n",
    "        img_resp_content=img_resp.content\n",
    "        \n",
    "        with open(\"爬的图片lxml/\"+img_name,\"wb\") as f:\n",
    "            f.write(img_resp_content)\n",
    "            print('over!')\n",
    "\n",
    "if __name__==\"__main__\":\n",
    "    url=\"http://www.netbian.com/meinv/index_6.htm\"\n",
    "    html=get_html(url)\n",
    "    \n",
    "    parser_and_save(html)\n",
    "\n"
   ]
  },
  {
   "cell_type": "code",
   "execution_count": null,
   "id": "67ce8ea7",
   "metadata": {},
   "outputs": [],
   "source": []
  }
 ],
 "metadata": {
  "kernelspec": {
   "display_name": "Python 3",
   "language": "python",
   "name": "python3"
  },
  "language_info": {
   "codemirror_mode": {
    "name": "ipython",
    "version": 3
   },
   "file_extension": ".py",
   "mimetype": "text/x-python",
   "name": "python",
   "nbconvert_exporter": "python",
   "pygments_lexer": "ipython3",
   "version": "3.8.8"
  }
 },
 "nbformat": 4,
 "nbformat_minor": 5
}
