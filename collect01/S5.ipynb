{
 "cells": [
  {
   "cell_type": "code",
   "execution_count": 9,
   "id": "49716891",
   "metadata": {},
   "outputs": [
    {
     "name": "stdout",
     "output_type": "stream",
     "text": [
      "\n"
     ]
    }
   ],
   "source": [
    "from selenium import webdriver\n",
    "from selenium.webdriver.common.by import By\n",
    "import time\n",
    "from selenium.webdriver import ActionChains\n",
    "\n",
    "def user_login(url,qq,pa):#登录\n",
    "    web=webdriver.Chrome()\n",
    "    web.get(url)\n",
    "    time.sleep(3)\n",
    "    web.find_element(by=By.XPATH,value='//*[@id=\"pass_phoenix_btn\"]/ul/li[2]/a').click() #点击QQ登录\n",
    "    time.sleep(1)\n",
    "    windows=web.window_handles\n",
    "    web.switch_to.window(windows[-1])\n",
    "    web.switch_to.frame(\"ptlogin_iframe\")\n",
    "    web.find_element(by=By.ID,value='switcher_plogin').click() #点击使用账号密码登录\n",
    "    web.find_element(by=By.ID,value='u').send_keys(f\"{qq}\")#输入账号\n",
    "    web.find_element(by=By.ID,value='p').send_keys(f\"{pa}\")#输入密码\n",
    "    web.find_element(by=By.ID,value='login_button').click()#点击登录\n",
    "    time.sleep(3)\n",
    "    \n",
    "def create_file():#新建文件\n",
    "    web.find_element(by=By.XPATH,value='/html/body/div[1]/div[2]/div[2]/div/div[1]/div[1]/div/button[1]').click()#点击新建文件夹\n",
    "    web.find_element(by=By.CLASS_NAME,value='u-input__inner').send_keys(\"实验5\")#输入文件名称\n",
    "    time.sleep(1)\n",
    "\n",
    "def del_file():#删除文件\n",
    "    element=web.find_element(by=By.LINK_TEXT,value='实验5')\n",
    "    ActionChains(web).context_click(element).click().perform()#右键，点击\n",
    "    web.find_element(by=By.NAME,value='删除').click()#点击删除文件\n",
    "    web.find_element(by=By.XPATH,value='//div[@class=\"nd-dialog-footer-center/div/button[2]\"]').click()#点击确定\n",
    "    \n",
    "if __name__==\"__main__\":\n",
    "    url='https://pan.baidu.com/'\n",
    "    user_login(url,qq,pa)\n",
    "    create_file()\n",
    "    del_file()\n",
    "\n",
    "\n"
   ]
  },
  {
   "cell_type": "code",
   "execution_count": null,
   "id": "5b1aa2ed",
   "metadata": {},
   "outputs": [],
   "source": []
  },
  {
   "cell_type": "code",
   "execution_count": 7,
   "id": "2940cb79",
   "metadata": {},
   "outputs": [],
   "source": [
    "from selenium import webdriver\n",
    "from selenium.webdriver.common.by import By\n",
    "from selenium.webdriver.common.keys import Keys\n",
    "import time\n",
    "from selenium.webdriver import ActionChains\n",
    "url='https://www.baidu.com/'\n",
    "\n",
    "web=webdriver.Chrome()\n",
    "web.get(url)\n",
    "time.sleep(1)\n",
    "element=web.find_element(by=By.ID,value='kw')\n",
    "ActionChains(web).context_click(element).click().perform()#右键，点击"
   ]
  },
  {
   "cell_type": "code",
   "execution_count": null,
   "id": "156f0c73",
   "metadata": {},
   "outputs": [],
   "source": []
  }
 ],
 "metadata": {
  "kernelspec": {
   "display_name": "Python 3",
   "language": "python",
   "name": "python3"
  },
  "language_info": {
   "codemirror_mode": {
    "name": "ipython",
    "version": 3
   },
   "file_extension": ".py",
   "mimetype": "text/x-python",
   "name": "python",
   "nbconvert_exporter": "python",
   "pygments_lexer": "ipython3",
   "version": "3.8.8"
  },
  "toc": {
   "base_numbering": 1,
   "nav_menu": {},
   "number_sections": true,
   "sideBar": true,
   "skip_h1_title": false,
   "title_cell": "Table of Contents",
   "title_sidebar": "Contents",
   "toc_cell": false,
   "toc_position": {},
   "toc_section_display": true,
   "toc_window_display": false
  }
 },
 "nbformat": 4,
 "nbformat_minor": 5
}
