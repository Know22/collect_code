{
 "cells": [
  {
   "cell_type": "code",
   "execution_count": 6,
   "id": "58591478",
   "metadata": {},
   "outputs": [
    {
     "name": "stdout",
     "output_type": "stream",
     "text": [
      "手机归属地为：\n",
      " 山西 临汾市\n"
     ]
    }
   ],
   "source": [
    "import requests\n",
    "from lxml import etree\n",
    "def get_html(url):\n",
    "    try:\n",
    "        head={\"User-Agent\":\"Mozilla/5.0 (Windows NT 10.0; Win64; x64) AppleWebKit/537.36 (KHTML, like Gecko)\"\n",
    "              \"Chrome/99.0.4844.82 Safari/537.36\"}\n",
    "        param={\n",
    "            \"mobile\":\"13111111111\",\n",
    "            \"action\":\"mobile\"\n",
    "        }\n",
    "        resp=requests.get(url,headers=head,params=param)#发送请求\n",
    "        \n",
    "        resp.encoding=resp.apparent_encoding#设置返回内容的字符集编码\n",
    "        \n",
    "        resp.raise_for_status()#返回的状态码不等于200抛出异常\n",
    "        \n",
    "        return resp.text#返回网页的文本内容\n",
    "    except Exception as error:\n",
    "        print(error)\n",
    "        \n",
    "def parser(html):#解析\n",
    "    tree=etree.HTML(html)\n",
    "    \n",
    "    where_name=tree.xpath(\"//div[@class='table']//tbody/tr[2]/td[2]/span/text()\")[0]#手机归属地\n",
    "    \n",
    "    print(\"手机归属地为：\\n\",where_name)#打印输出手机归属地\n",
    "                \n",
    "if __name__==\"__main__\": \n",
    "    url=\"https://www.ip138.com/mobile.asp?\"\n",
    "    html=get_html(url)\n",
    "    parser(html)\n",
    "    #print(html)"
   ]
  },
  {
   "cell_type": "code",
   "execution_count": null,
   "id": "306e2ecd",
   "metadata": {},
   "outputs": [],
   "source": []
  }
 ],
 "metadata": {
  "kernelspec": {
   "display_name": "Python 3",
   "language": "python",
   "name": "python3"
  },
  "language_info": {
   "codemirror_mode": {
    "name": "ipython",
    "version": 3
   },
   "file_extension": ".py",
   "mimetype": "text/x-python",
   "name": "python",
   "nbconvert_exporter": "python",
   "pygments_lexer": "ipython3",
   "version": "3.8.8"
  }
 },
 "nbformat": 4,
 "nbformat_minor": 5
}
